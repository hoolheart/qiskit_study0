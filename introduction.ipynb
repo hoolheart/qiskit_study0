{
 "cells": [
  {
   "cell_type": "code",
   "execution_count": 1,
   "id": "3f89c44f-17bc-4b0c-b854-9c37b7cbb69c",
   "metadata": {},
   "outputs": [
    {
     "data": {
      "text/html": [
       "<h3>Version Information</h3><table><tr><th>Qiskit Software</th><th>Version</th></tr><tr><td><code>qiskit-terra</code></td><td>0.19.1</td></tr><tr><td><code>qiskit-aer</code></td><td>0.10.2</td></tr><tr><td><code>qiskit-ignis</code></td><td>0.7.0</td></tr><tr><td><code>qiskit-ibmq-provider</code></td><td>0.18.3</td></tr><tr><td><code>qiskit</code></td><td>0.34.1</td></tr><tr><th>System information</th></tr><tr><td>Python version</td><td>3.9.7</td></tr><tr><td>Python compiler</td><td>Clang 10.0.0 </td></tr><tr><td>Python build</td><td>default, Sep 16 2021 08:50:36</td></tr><tr><td>OS</td><td>Darwin</td></tr><tr><td>CPUs</td><td>2</td></tr><tr><td>Memory (Gb)</td><td>8.0</td></tr><tr><td colspan='2'>Tue Mar 08 20:34:40 2022 CST</td></tr></table>"
      ],
      "text/plain": [
       "<IPython.core.display.HTML object>"
      ]
     },
     "metadata": {},
     "output_type": "display_data"
    }
   ],
   "source": [
    "%matplotlib inline\n",
    "from matplotlib import style\n",
    "style.use('seaborn-white')\n",
    "\n",
    "import qiskit\n",
    "import qiskit.tools.jupyter\n",
    "%qiskit_version_table"
   ]
  },
  {
   "cell_type": "code",
   "execution_count": 2,
   "id": "1337dcea-73cb-40e8-a55f-a568d2fe6b6c",
   "metadata": {},
   "outputs": [
    {
     "name": "stdout",
     "output_type": "stream",
     "text": [
      "Prepare QASM simulator qasm_simulator\n"
     ]
    }
   ],
   "source": [
    "from qiskit.providers.aer import QasmSimulator\n",
    "simulator = QasmSimulator()\n",
    "print('Prepare QASM simulator {}'.format(simulator))"
   ]
  },
  {
   "cell_type": "code",
   "execution_count": 3,
   "id": "72277eb7-8d46-4484-b836-1854a0fcaee0",
   "metadata": {},
   "outputs": [
    {
     "name": "stdout",
     "output_type": "stream",
     "text": [
      "Circuit of Demo 0:\n",
      "     ┌───┐ ░                 ░       \n",
      "q_0: ┤ H ├─░────────■────■───░───────\n",
      "     ├───┤ ░        │    │   ░       \n",
      "q_1: ┤ H ├─░───■────┼────■───░───────\n",
      "     └───┘ ░ ┌─┴─┐┌─┴─┐  │   ░ ┌─┐   \n",
      "q_2: ──────░─┤ X ├┤ X ├──┼───░─┤M├───\n",
      "           ░ └───┘└───┘┌─┴─┐ ░ └╥┘┌─┐\n",
      "q_3: ──────░───────────┤ X ├─░──╫─┤M├\n",
      "           ░           └───┘ ░  ║ └╥┘\n",
      "c: 2/═══════════════════════════╩══╩═\n",
      "                                0  1 \n"
     ]
    }
   ],
   "source": [
    "def demo0_circuit():\n",
    "    circuit = qiskit.QuantumCircuit(4, 2)\n",
    "    circuit.h(0)\n",
    "    circuit.h(1)\n",
    "    circuit.barrier()\n",
    "    circuit.cx(1, 2)\n",
    "    circuit.cx(0, 2)\n",
    "    circuit.ccx(0, 1, 3)\n",
    "    circuit.barrier()\n",
    "    circuit.measure([2, 3], [0, 1])\n",
    "    return circuit\n",
    "\n",
    "c0 = demo0_circuit()\n",
    "print('Circuit of Demo 0:')\n",
    "print(c0)"
   ]
  },
  {
   "cell_type": "code",
   "execution_count": 4,
   "id": "0fa048be-d172-4091-91af-a0a9dbddc6dc",
   "metadata": {},
   "outputs": [
    {
     "name": "stdout",
     "output_type": "stream",
     "text": [
      "QASM of circuit 0\n"
     ]
    },
    {
     "data": {
      "text/plain": [
       "[(Instruction(name='h', num_qubits=1, num_clbits=0, params=[]), [Qubit(QuantumRegister(4, 'q'), 0)], []), (Instruction(name='h', num_qubits=1, num_clbits=0, params=[]), [Qubit(QuantumRegister(4, 'q'), 1)], []), (Instruction(name='barrier', num_qubits=4, num_clbits=0, params=[]), [Qubit(QuantumRegister(4, 'q'), 0), Qubit(QuantumRegister(4, 'q'), 1), Qubit(QuantumRegister(4, 'q'), 2), Qubit(QuantumRegister(4, 'q'), 3)], []), (Instruction(name='cx', num_qubits=2, num_clbits=0, params=[]), [Qubit(QuantumRegister(4, 'q'), 1), Qubit(QuantumRegister(4, 'q'), 2)], []), (Instruction(name='cx', num_qubits=2, num_clbits=0, params=[]), [Qubit(QuantumRegister(4, 'q'), 0), Qubit(QuantumRegister(4, 'q'), 2)], []), (Instruction(name='ccx', num_qubits=3, num_clbits=0, params=[]), [Qubit(QuantumRegister(4, 'q'), 0), Qubit(QuantumRegister(4, 'q'), 1), Qubit(QuantumRegister(4, 'q'), 3)], []), (Instruction(name='barrier', num_qubits=4, num_clbits=0, params=[]), [Qubit(QuantumRegister(4, 'q'), 0), Qubit(QuantumRegister(4, 'q'), 1), Qubit(QuantumRegister(4, 'q'), 2), Qubit(QuantumRegister(4, 'q'), 3)], []), (Instruction(name='measure', num_qubits=1, num_clbits=1, params=[]), [Qubit(QuantumRegister(4, 'q'), 2)], [Clbit(ClassicalRegister(2, 'c'), 0)]), (Instruction(name='measure', num_qubits=1, num_clbits=1, params=[]), [Qubit(QuantumRegister(4, 'q'), 3)], [Clbit(ClassicalRegister(2, 'c'), 1)])]"
      ]
     },
     "execution_count": 4,
     "metadata": {},
     "output_type": "execute_result"
    }
   ],
   "source": [
    "qasm0 = qiskit.transpile(c0, simulator)\n",
    "print('QASM of circuit 0')\n",
    "qasm0.data"
   ]
  },
  {
   "cell_type": "code",
   "execution_count": 5,
   "id": "8ade5288-2a60-40a0-a86d-df01e0fa565a",
   "metadata": {},
   "outputs": [
    {
     "name": "stdout",
     "output_type": "stream",
     "text": [
      "Job of circuit 0: <qiskit.providers.aer.jobs.aerjob.AerJob object at 0x7fd9652bb460>\n"
     ]
    }
   ],
   "source": [
    "job0 = simulator.run(qasm0, shots=1000)\n",
    "print('Job of circuit 0: {}'.format(job0))"
   ]
  },
  {
   "cell_type": "code",
   "execution_count": 6,
   "id": "64aa28d7-0ec1-46f1-abbd-60429bc332cb",
   "metadata": {},
   "outputs": [
    {
     "name": "stdout",
     "output_type": "stream",
     "text": [
      "Result of circuit 0: Result(backend_name='qasm_simulator', backend_version='0.10.2', qobj_id='a34b200f-cc23-460f-8814-d6f720e4b9c5', job_id='1658810f-0803-4e70-92e0-404e35975d69', success=True, results=[ExperimentResult(shots=1000, success=True, meas_level=2, data=ExperimentResultData(counts={'0x2': 269, '0x0': 243, '0x1': 488}), header=QobjExperimentHeader(clbit_labels=[['c', 0], ['c', 1]], creg_sizes=[['c', 2]], global_phase=0.0, memory_slots=2, metadata=None, n_qubits=4, name='circuit-3', qreg_sizes=[['q', 4]], qubit_labels=[['q', 0], ['q', 1], ['q', 2], ['q', 3]]), status=DONE, seed_simulator=1272401528, metadata={'noise': 'ideal', 'batched_shots_optimization': False, 'remapped_qubits': False, 'parallel_state_update': 4, 'parallel_shots': 1, 'device': 'CPU', 'active_input_qubits': [0, 1, 2, 3], 'measure_sampling': True, 'num_clbits': 2, 'input_qubit_map': [[3, 3], [2, 2], [1, 1], [0, 0]], 'num_qubits': 4, 'method': 'statevector', 'fusion': {'applied': False, 'max_fused_qubits': 5, 'threshold': 14, 'enabled': True}}, time_taken=0.0037282)], date=2022-03-08T20:34:41.269529, status=COMPLETED, status=QobjHeader(backend_name='qasm_simulator', backend_version='0.10.2'), metadata={'mpi_rank': 0, 'time_taken': 0.004095047, 'max_gpu_memory_mb': 0, 'time_taken_execute': 0.003783396, 'max_memory_mb': 8192, 'time_taken_load_qobj': 0.00028653200000000004, 'parallel_experiments': 1, 'num_mpi_processes': 1, 'omp_enabled': True}, time_taken=0.0045108795166015625)\n"
     ]
    }
   ],
   "source": [
    "rst0 = job0.result()\n",
    "print('Result of circuit 0: {}'.format(rst0))"
   ]
  },
  {
   "cell_type": "code",
   "execution_count": 7,
   "id": "10b1e314-2528-4581-b689-6e543bae02bf",
   "metadata": {},
   "outputs": [
    {
     "data": {
      "text/plain": [
       "({'10': 269, '00': 243, '01': 488}, {'10': 269, '00': 243, '01': 488})"
      ]
     },
     "execution_count": 7,
     "metadata": {},
     "output_type": "execute_result"
    }
   ],
   "source": [
    "rst0.get_counts(), rst0.get_counts(qasm0)"
   ]
  },
  {
   "cell_type": "code",
   "execution_count": 8,
   "id": "18eb0a9e-19e4-4cdb-82ac-738c1f2fea1f",
   "metadata": {},
   "outputs": [
    {
     "data": {
      "image/png": "[encoded data removed]",
      "text/plain": [
       "<Figure size 568.197x325.08 with 1 Axes>"
      ]
     },
     "execution_count": 8,
     "metadata": {},
     "output_type": "execute_result"
    }
   ],
   "source": [
    "c0.draw()"
   ]
  },
  {
   "cell_type": "code",
   "execution_count": 9,
   "id": "7c9b5b81-dbab-4ebc-bd91-60d58fd3ac6a",
   "metadata": {},
   "outputs": [
    {
     "data": {
      "image/png": "[encoded data removed]",
      "text/plain": [
       "<Figure size 504x360 with 1 Axes>"
      ]
     },
     "execution_count": 9,
     "metadata": {},
     "output_type": "execute_result"
    }
   ],
   "source": [
    "from qiskit.visualization import plot_histogram\n",
    "plot_histogram(rst0.get_counts())"
   ]
  },
  {
   "cell_type": "code",
   "execution_count": null,
   "id": "f9838d35-653a-4594-aea5-b02ea1e9f7e7",
   "metadata": {},
   "outputs": [],
   "source": []
  }
 ],
 "metadata": {
  "kernelspec": {
   "display_name": "qiskit",
   "language": "python",
   "name": "qiskit"
  },
  "language_info": {
   "codemirror_mode": {
    "name": "ipython",
    "version": 3
   },
   "file_extension": ".py",
   "mimetype": "text/x-python",
   "name": "python",
   "nbconvert_exporter": "python",
   "pygments_lexer": "ipython3",
   "version": "3.9.7"
  }
 },
 "nbformat": 4,
 "nbformat_minor": 5
}
