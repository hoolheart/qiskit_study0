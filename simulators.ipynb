{
 "cells": [
  {
   "cell_type": "markdown",
   "id": "95aee597-16e6-40e0-8946-0b9c3541a4ad",
   "metadata": {},
   "source": [
    "# 量子线路仿真"
   ]
  },
  {
   "cell_type": "code",
   "execution_count": 1,
   "id": "afb5a0a9-8fd8-4227-8df5-37e5c430124b",
   "metadata": {},
   "outputs": [
    {
     "data": {
      "text/html": [
       "<h3>Version Information</h3><table><tr><th>Qiskit Software</th><th>Version</th></tr><tr><td><code>qiskit-terra</code></td><td>0.19.1</td></tr><tr><td><code>qiskit-aer</code></td><td>0.10.2</td></tr><tr><td><code>qiskit-ignis</code></td><td>0.7.0</td></tr><tr><td><code>qiskit-ibmq-provider</code></td><td>0.18.3</td></tr><tr><td><code>qiskit</code></td><td>0.34.1</td></tr><tr><th>System information</th></tr><tr><td>Python version</td><td>3.9.7</td></tr><tr><td>Python compiler</td><td>Clang 10.0.0 </td></tr><tr><td>Python build</td><td>default, Sep 16 2021 08:50:36</td></tr><tr><td>OS</td><td>Darwin</td></tr><tr><td>CPUs</td><td>2</td></tr><tr><td>Memory (Gb)</td><td>8.0</td></tr><tr><td colspan='2'>Wed Mar 16 17:30:30 2022 CST</td></tr></table>"
      ],
      "text/plain": [
       "<IPython.core.display.HTML object>"
      ]
     },
     "metadata": {},
     "output_type": "display_data"
    }
   ],
   "source": [
    "# Import necessary data-processing modules\n",
    "import numpy as np\n",
    "import pandas as pd\n",
    "\n",
    "# Control matplotlib style (white background)\n",
    "%matplotlib inline\n",
    "from matplotlib import style\n",
    "from IPython.display import display\n",
    "style.use('seaborn-white')\n",
    "\n",
    "# Import QisKit\n",
    "import qiskit\n",
    "import qiskit.tools.jupyter\n",
    "%qiskit_version_table\n",
    "\n",
    "# function to inspect given quantum circuit\n",
    "def inspect_quantum_circuit(c):\n",
    "    if type(c) is not qiskit.circuit.quantumcircuit.QuantumCircuit:\n",
    "        print('The input is not Quantum Circuit defined in QisKit')\n",
    "        return\n",
    "    print('Inspect Quantum Circuit {}'.format(c.name)) # display name\n",
    "    print()\n",
    "    if c.num_qubits > 0:\n",
    "        print('There are {} qubits in {} quantum regiters'.format(c.num_qubits, len(c.qregs)))\n",
    "        for reg in c.qregs:\n",
    "            print('  {}'.format(reg)) # display every quantum regiter\n",
    "    else:\n",
    "        print('There is no qubit')\n",
    "    print()\n",
    "    if c.num_clbits > 0:\n",
    "        print('There are {} classic bits in {} classic registers'.format(c.num_clbits, len(c.cregs)))\n",
    "        for reg in c.cregs:\n",
    "            print('  {}'.format(reg)) # display every classic register\n",
    "    else:\n",
    "        print('There is no classic bit')\n",
    "    print()\n",
    "    if len(c.data) > 0:\n",
    "        print('There are {} instructions'.format(len(c.data)))\n",
    "        for inst in c.data:\n",
    "            print('  {}'.format(inst)) # display every instruction\n",
    "    else:\n",
    "        print('There is no instruction')\n",
    "    print()\n",
    "    print('Image of circuit:') # display circuit image\n",
    "    display(c.draw())\n",
    "    print()\n",
    "\n",
    "# function to compose several quantum circuits\n",
    "def compose_circuits(circuits):\n",
    "    circ = qiskit.QuantumCircuit()\n",
    "    is_head = True\n",
    "    for c in circuits:\n",
    "        if type(c) is not qiskit.circuit.quantumcircuit.QuantumCircuit:\n",
    "            continue\n",
    "        if c.num_qubits > circ.num_qubits:\n",
    "            circ.add_register(qiskit.QuantumRegister(c.num_qubits - circ.num_qubits))\n",
    "        if c.num_clbits > circ.num_clbits:\n",
    "            circ.add_register(qiskit.ClassicalRegister(c.num_clbits - circ.num_clbits))\n",
    "        if is_head:\n",
    "            is_head = False\n",
    "        else:\n",
    "            #print('add barrier before {}'.format(c.name))\n",
    "            circ.barrier()\n",
    "        #print('compose {}'.format(c.name))\n",
    "        circ.compose(c, inplace = True)\n",
    "    return circ"
   ]
  },
  {
   "cell_type": "markdown",
   "id": "39827ad5-8fa7-45bd-a0ba-813ca73ebe1b",
   "metadata": {},
   "source": [
    "## 概述\n",
    "\n",
    "在不连接IBM量子计算机情况下，QisKit提供三种量子线路的仿真后端：\n",
    "\n",
    "1. 状态向量，用于分析纯量子比特线路的状态空间；\n",
    "2. 幺正算子，用于分析纯量子比特线路对应的幺正孙子；\n",
    "3. 计算模拟，用于模拟具有测量输出的量子线路运算结果。\n",
    "\n",
    "这三个后端都可以通过Aer模块的`get_backend`函数获取，对应的名称分别为“statevector_simulator”、“unitary_simulator”和“qasm_simulator”。"
   ]
  },
  {
   "cell_type": "markdown",
   "id": "b317d4db-760b-49b7-b552-61f61435697b",
   "metadata": {},
   "source": [
    "## 准备线路\n",
    "\n",
    "下面准备一个纯量子比特线路`circ_q`，再准备一个包含测量的量子比特线路`circ`，用于测试3种仿真后端。"
   ]
  },
  {
   "cell_type": "code",
   "execution_count": 2,
   "id": "e36b2e46-08f9-49d9-93b7-92f23bec66b1",
   "metadata": {},
   "outputs": [
    {
     "name": "stdout",
     "output_type": "stream",
     "text": [
      "Inspect Quantum Circuit qc_pure\n",
      "\n",
      "There are 4 qubits in 1 quantum regiters\n",
      "  QuantumRegister(4, 'q')\n",
      "\n",
      "There is no classic bit\n",
      "\n",
      "There are 5 instructions\n",
      "  (Instruction(name='h', num_qubits=1, num_clbits=0, params=[]), [Qubit(QuantumRegister(4, 'q'), 0)], [])\n",
      "  (Instruction(name='h', num_qubits=1, num_clbits=0, params=[]), [Qubit(QuantumRegister(4, 'q'), 1)], [])\n",
      "  (Instruction(name='cx', num_qubits=2, num_clbits=0, params=[]), [Qubit(QuantumRegister(4, 'q'), 1), Qubit(QuantumRegister(4, 'q'), 2)], [])\n",
      "  (Instruction(name='cx', num_qubits=2, num_clbits=0, params=[]), [Qubit(QuantumRegister(4, 'q'), 0), Qubit(QuantumRegister(4, 'q'), 2)], [])\n",
      "  (Instruction(name='ccx', num_qubits=3, num_clbits=0, params=[]), [Qubit(QuantumRegister(4, 'q'), 0), Qubit(QuantumRegister(4, 'q'), 1), Qubit(QuantumRegister(4, 'q'), 3)], [])\n",
      "\n",
      "Image of circuit:\n"
     ]
    },
    {
     "data": {
      "image/png": "[encoded data removed]",
      "text/plain": [
       "<Figure size 327.397x264.88 with 1 Axes>"
      ]
     },
     "metadata": {},
     "output_type": "display_data"
    },
    {
     "name": "stdout",
     "output_type": "stream",
     "text": [
      "\n"
     ]
    }
   ],
   "source": [
    "circ_q = qiskit.QuantumCircuit(4, name='qc_pure')\n",
    "circ_q.h(0)\n",
    "circ_q.h(1)\n",
    "circ_q.cx(1, 2)\n",
    "circ_q.cx(0, 2)\n",
    "circ_q.ccx(0, 1, 3)\n",
    "\n",
    "inspect_quantum_circuit(circ_q)"
   ]
  },
  {
   "cell_type": "code",
   "execution_count": 3,
   "id": "ad530e98-0980-46f5-9ff7-d480735dd4f8",
   "metadata": {},
   "outputs": [
    {
     "name": "stdout",
     "output_type": "stream",
     "text": [
      "Inspect Quantum Circuit qc_with_measure\n",
      "\n",
      "There are 4 qubits in 1 quantum regiters\n",
      "  QuantumRegister(4, 'q')\n",
      "\n",
      "There are 2 classic bits in 1 classic registers\n",
      "  ClassicalRegister(2, 'c')\n",
      "\n",
      "There are 7 instructions\n",
      "  (Instruction(name='h', num_qubits=1, num_clbits=0, params=[]), [Qubit(QuantumRegister(4, 'q'), 0)], [])\n",
      "  (Instruction(name='h', num_qubits=1, num_clbits=0, params=[]), [Qubit(QuantumRegister(4, 'q'), 1)], [])\n",
      "  (Instruction(name='cx', num_qubits=2, num_clbits=0, params=[]), [Qubit(QuantumRegister(4, 'q'), 1), Qubit(QuantumRegister(4, 'q'), 2)], [])\n",
      "  (Instruction(name='cx', num_qubits=2, num_clbits=0, params=[]), [Qubit(QuantumRegister(4, 'q'), 0), Qubit(QuantumRegister(4, 'q'), 2)], [])\n",
      "  (Instruction(name='ccx', num_qubits=3, num_clbits=0, params=[]), [Qubit(QuantumRegister(4, 'q'), 0), Qubit(QuantumRegister(4, 'q'), 1), Qubit(QuantumRegister(4, 'q'), 3)], [])\n",
      "  (Instruction(name='measure', num_qubits=1, num_clbits=1, params=[]), [Qubit(QuantumRegister(4, 'q'), 2)], [Clbit(ClassicalRegister(2, 'c'), 0)])\n",
      "  (Instruction(name='measure', num_qubits=1, num_clbits=1, params=[]), [Qubit(QuantumRegister(4, 'q'), 3)], [Clbit(ClassicalRegister(2, 'c'), 1)])\n",
      "\n",
      "Image of circuit:\n"
     ]
    },
    {
     "data": {
      "image/png": "[encoded data removed]",
      "text/plain": [
       "<Figure size 447.797x325.08 with 1 Axes>"
      ]
     },
     "metadata": {},
     "output_type": "display_data"
    },
    {
     "name": "stdout",
     "output_type": "stream",
     "text": [
      "\n"
     ]
    }
   ],
   "source": [
    "circ = circ_q.copy()\n",
    "circ.name = 'qc_with_measure'\n",
    "circ.add_register(qiskit.ClassicalRegister(2, 'c'))\n",
    "circ.measure([2, 3], [0, 1])\n",
    "\n",
    "inspect_quantum_circuit(circ)"
   ]
  },
  {
   "cell_type": "markdown",
   "id": "84ab008f-5862-411f-8882-345ade39e31c",
   "metadata": {},
   "source": [
    "## 状态向量\n",
    "\n",
    "使用状态向量后端运行纯量子比特线路，所得结果中数据为线路对应的状态向量。"
   ]
  },
  {
   "cell_type": "code",
   "execution_count": 4,
   "id": "06213738-1437-4678-84f4-26671e392a16",
   "metadata": {},
   "outputs": [
    {
     "name": "stdout",
     "output_type": "stream",
     "text": [
      "{'statevector': Statevector([ 0.5+0.j,  0. +0.j, -0. +0.j, -0. +0.j,  0. +0.j,  0.5+0.j,\n",
      "              0.5+0.j, -0. +0.j,  0. +0.j,  0. +0.j, -0. +0.j,  0.5+0.j,\n",
      "              0. +0.j,  0. +0.j, -0. +0.j, -0. +0.j],\n",
      "            dims=(2, 2, 2, 2))}\n"
     ]
    }
   ],
   "source": [
    "backend_statevector = qiskit.Aer.get_backend('statevector_simulator')\n",
    "job0 = backend_statevector.run(circ_q)\n",
    "result0 = job0.result()\n",
    "print(result0.data())"
   ]
  },
  {
   "cell_type": "markdown",
   "id": "c33d552e-0fb4-46fd-a1a5-92d2cc10876c",
   "metadata": {},
   "source": [
    "可以通过`get_statevector`函数获取状态向量，使用“latex”风格绘制状态向量，可以得到向量对应的解析式。"
   ]
  },
  {
   "cell_type": "code",
   "execution_count": 5,
   "id": "1dfa709a-ac36-4057-aef3-4ae11932b387",
   "metadata": {},
   "outputs": [
    {
     "data": {
      "text/latex": [
       "$$\\frac{1}{2} |0000\\rangle+\\frac{1}{2} |0101\\rangle+\\frac{1}{2} |0110\\rangle+\\frac{1}{2} |1011\\rangle$$"
      ],
      "text/plain": [
       "<IPython.core.display.Latex object>"
      ]
     },
     "execution_count": 5,
     "metadata": {},
     "output_type": "execute_result"
    }
   ],
   "source": [
    "state_vector = result0.get_statevector()\n",
    "state_vector.draw('latex')"
   ]
  },
  {
   "cell_type": "markdown",
   "id": "605e4f05-bffa-43de-bd36-b8ecb86f95ab",
   "metadata": {},
   "source": [
    "## 幺正算子\n",
    "\n",
    "幺正算子是量子线路在数学上的等价算符，使用该后端进行仿真，所得结果中数据为线路对应幺正算子。"
   ]
  },
  {
   "cell_type": "code",
   "execution_count": 6,
   "id": "5d3d28f6-732f-4461-b8fe-bb963ba7b63a",
   "metadata": {},
   "outputs": [
    {
     "name": "stdout",
     "output_type": "stream",
     "text": [
      "{'unitary': Operator([[ 0.5+0.0000000e+00j,  0.5-6.1232340e-17j,  0.5-6.1232340e-17j,\n",
      "            0.5-1.2246468e-16j,  0. +0.0000000e+00j,  0. +0.0000000e+00j,\n",
      "            0. +0.0000000e+00j,  0. +0.0000000e+00j,  0. +0.0000000e+00j,\n",
      "            0. +0.0000000e+00j,  0. +0.0000000e+00j,  0. +0.0000000e+00j,\n",
      "            0. +0.0000000e+00j,  0. +0.0000000e+00j,  0. +0.0000000e+00j,\n",
      "            0. +0.0000000e+00j],\n",
      "          [ 0. +0.0000000e+00j,  0. +0.0000000e+00j,  0. +0.0000000e+00j,\n",
      "            0. +0.0000000e+00j,  0.5+0.0000000e+00j, -0.5+6.1232340e-17j,\n",
      "            0.5-6.1232340e-17j, -0.5+1.2246468e-16j,  0. +0.0000000e+00j,\n",
      "            0. +0.0000000e+00j,  0. +0.0000000e+00j,  0. +0.0000000e+00j,\n",
      "            0. +0.0000000e+00j,  0. +0.0000000e+00j,  0. +0.0000000e+00j,\n",
      "            0. +0.0000000e+00j],\n",
      "          [-0. +0.0000000e+00j, -0. +0.0000000e+00j, -0. +0.0000000e+00j,\n",
      "           -0. +0.0000000e+00j,  0.5+0.0000000e+00j,  0.5-6.1232340e-17j,\n",
      "           -0.5+6.1232340e-17j, -0.5+1.2246468e-16j, -0. +0.0000000e+00j,\n",
      "           -0. +0.0000000e+00j, -0. +0.0000000e+00j, -0. +0.0000000e+00j,\n",
      "           -0. +0.0000000e+00j, -0. +0.0000000e+00j, -0. +0.0000000e+00j,\n",
      "           -0. +0.0000000e+00j],\n",
      "          [-0. +0.0000000e+00j, -0. +0.0000000e+00j, -0. +0.0000000e+00j,\n",
      "           -0. +0.0000000e+00j, -0. +0.0000000e+00j, -0. +0.0000000e+00j,\n",
      "           -0. +0.0000000e+00j, -0. +0.0000000e+00j,  0.5+0.0000000e+00j,\n",
      "           -0.5+6.1232340e-17j, -0.5+6.1232340e-17j,  0.5-1.2246468e-16j,\n",
      "           -0. +0.0000000e+00j, -0. +0.0000000e+00j, -0. +0.0000000e+00j,\n",
      "           -0. +0.0000000e+00j],\n",
      "          [ 0. +0.0000000e+00j,  0. +0.0000000e+00j,  0. +0.0000000e+00j,\n",
      "            0. +0.0000000e+00j,  0.5+0.0000000e+00j,  0.5-6.1232340e-17j,\n",
      "            0.5-6.1232340e-17j,  0.5-1.2246468e-16j,  0. +0.0000000e+00j,\n",
      "            0. +0.0000000e+00j,  0. +0.0000000e+00j,  0. +0.0000000e+00j,\n",
      "            0. +0.0000000e+00j,  0. +0.0000000e+00j,  0. +0.0000000e+00j,\n",
      "            0. +0.0000000e+00j],\n",
      "          [ 0.5+0.0000000e+00j, -0.5+6.1232340e-17j,  0.5-6.1232340e-17j,\n",
      "           -0.5+1.2246468e-16j,  0. +0.0000000e+00j,  0. +0.0000000e+00j,\n",
      "            0. +0.0000000e+00j,  0. +0.0000000e+00j,  0. +0.0000000e+00j,\n",
      "            0. +0.0000000e+00j,  0. +0.0000000e+00j,  0. +0.0000000e+00j,\n",
      "            0. +0.0000000e+00j,  0. +0.0000000e+00j,  0. +0.0000000e+00j,\n",
      "            0. +0.0000000e+00j],\n",
      "          [ 0.5+0.0000000e+00j,  0.5-6.1232340e-17j, -0.5+6.1232340e-17j,\n",
      "           -0.5+1.2246468e-16j, -0. +0.0000000e+00j, -0. +0.0000000e+00j,\n",
      "           -0. +0.0000000e+00j, -0. +0.0000000e+00j, -0. +0.0000000e+00j,\n",
      "           -0. +0.0000000e+00j, -0. +0.0000000e+00j, -0. +0.0000000e+00j,\n",
      "           -0. +0.0000000e+00j, -0. +0.0000000e+00j, -0. +0.0000000e+00j,\n",
      "           -0. +0.0000000e+00j],\n",
      "          [-0. +0.0000000e+00j, -0. +0.0000000e+00j, -0. +0.0000000e+00j,\n",
      "           -0. +0.0000000e+00j, -0. +0.0000000e+00j, -0. +0.0000000e+00j,\n",
      "           -0. +0.0000000e+00j, -0. +0.0000000e+00j, -0. +0.0000000e+00j,\n",
      "           -0. +0.0000000e+00j, -0. +0.0000000e+00j, -0. +0.0000000e+00j,\n",
      "            0.5+0.0000000e+00j, -0.5+6.1232340e-17j, -0.5+6.1232340e-17j,\n",
      "            0.5-1.2246468e-16j],\n",
      "          [ 0. +0.0000000e+00j,  0. +0.0000000e+00j,  0. +0.0000000e+00j,\n",
      "            0. +0.0000000e+00j,  0. +0.0000000e+00j,  0. +0.0000000e+00j,\n",
      "            0. +0.0000000e+00j,  0. +0.0000000e+00j,  0.5+0.0000000e+00j,\n",
      "            0.5-6.1232340e-17j,  0.5-6.1232340e-17j,  0.5-1.2246468e-16j,\n",
      "            0. +0.0000000e+00j,  0. +0.0000000e+00j,  0. +0.0000000e+00j,\n",
      "            0. +0.0000000e+00j],\n",
      "          [ 0. +0.0000000e+00j,  0. +0.0000000e+00j,  0. +0.0000000e+00j,\n",
      "            0. +0.0000000e+00j,  0. +0.0000000e+00j,  0. +0.0000000e+00j,\n",
      "            0. +0.0000000e+00j,  0. +0.0000000e+00j,  0. +0.0000000e+00j,\n",
      "            0. +0.0000000e+00j,  0. +0.0000000e+00j,  0. +0.0000000e+00j,\n",
      "            0.5+0.0000000e+00j, -0.5+6.1232340e-17j,  0.5-6.1232340e-17j,\n",
      "           -0.5+1.2246468e-16j],\n",
      "          [-0. +0.0000000e+00j, -0. +0.0000000e+00j, -0. +0.0000000e+00j,\n",
      "           -0. +0.0000000e+00j, -0. +0.0000000e+00j, -0. +0.0000000e+00j,\n",
      "           -0. +0.0000000e+00j, -0. +0.0000000e+00j, -0. +0.0000000e+00j,\n",
      "           -0. +0.0000000e+00j, -0. +0.0000000e+00j, -0. +0.0000000e+00j,\n",
      "            0.5+0.0000000e+00j,  0.5-6.1232340e-17j, -0.5+6.1232340e-17j,\n",
      "           -0.5+1.2246468e-16j],\n",
      "          [ 0.5+0.0000000e+00j, -0.5+6.1232340e-17j, -0.5+6.1232340e-17j,\n",
      "            0.5-1.2246468e-16j, -0. +0.0000000e+00j, -0. +0.0000000e+00j,\n",
      "           -0. +0.0000000e+00j, -0. +0.0000000e+00j, -0. +0.0000000e+00j,\n",
      "           -0. +0.0000000e+00j, -0. +0.0000000e+00j, -0. +0.0000000e+00j,\n",
      "           -0. +0.0000000e+00j, -0. +0.0000000e+00j, -0. +0.0000000e+00j,\n",
      "           -0. +0.0000000e+00j],\n",
      "          [ 0. +0.0000000e+00j,  0. +0.0000000e+00j,  0. +0.0000000e+00j,\n",
      "            0. +0.0000000e+00j,  0. +0.0000000e+00j,  0. +0.0000000e+00j,\n",
      "            0. +0.0000000e+00j,  0. +0.0000000e+00j,  0. +0.0000000e+00j,\n",
      "            0. +0.0000000e+00j,  0. +0.0000000e+00j,  0. +0.0000000e+00j,\n",
      "            0.5+0.0000000e+00j,  0.5-6.1232340e-17j,  0.5-6.1232340e-17j,\n",
      "            0.5-1.2246468e-16j],\n",
      "          [ 0. +0.0000000e+00j,  0. +0.0000000e+00j,  0. +0.0000000e+00j,\n",
      "            0. +0.0000000e+00j,  0. +0.0000000e+00j,  0. +0.0000000e+00j,\n",
      "            0. +0.0000000e+00j,  0. +0.0000000e+00j,  0.5+0.0000000e+00j,\n",
      "           -0.5+6.1232340e-17j,  0.5-6.1232340e-17j, -0.5+1.2246468e-16j,\n",
      "            0. +0.0000000e+00j,  0. +0.0000000e+00j,  0. +0.0000000e+00j,\n",
      "            0. +0.0000000e+00j],\n",
      "          [-0. +0.0000000e+00j, -0. +0.0000000e+00j, -0. +0.0000000e+00j,\n",
      "           -0. +0.0000000e+00j, -0. +0.0000000e+00j, -0. +0.0000000e+00j,\n",
      "           -0. +0.0000000e+00j, -0. +0.0000000e+00j,  0.5+0.0000000e+00j,\n",
      "            0.5-6.1232340e-17j, -0.5+6.1232340e-17j, -0.5+1.2246468e-16j,\n",
      "           -0. +0.0000000e+00j, -0. +0.0000000e+00j, -0. +0.0000000e+00j,\n",
      "           -0. +0.0000000e+00j],\n",
      "          [-0. +0.0000000e+00j, -0. +0.0000000e+00j, -0. +0.0000000e+00j,\n",
      "           -0. +0.0000000e+00j,  0.5+0.0000000e+00j, -0.5+6.1232340e-17j,\n",
      "           -0.5+6.1232340e-17j,  0.5-1.2246468e-16j, -0. +0.0000000e+00j,\n",
      "           -0. +0.0000000e+00j, -0. +0.0000000e+00j, -0. +0.0000000e+00j,\n",
      "           -0. +0.0000000e+00j, -0. +0.0000000e+00j, -0. +0.0000000e+00j,\n",
      "           -0. +0.0000000e+00j]],\n",
      "         input_dims=(2, 2, 2, 2), output_dims=(2, 2, 2, 2))}\n"
     ]
    }
   ],
   "source": [
    "backend_unitary = qiskit.Aer.get_backend('unitary_simulator')\n",
    "job1 = backend_unitary.run(circ_q)\n",
    "result1 = job1.result()\n",
    "print(result1.data())"
   ]
  },
  {
   "cell_type": "markdown",
   "id": "8c8af9c7-f2a3-4561-95ef-c8a8997010a5",
   "metadata": {},
   "source": [
    "使用`get_unitary`函数从结果中获取幺正算子"
   ]
  },
  {
   "cell_type": "code",
   "execution_count": 7,
   "id": "a2e592ea-a793-48ff-9cd0-650a3e5a921c",
   "metadata": {},
   "outputs": [
    {
     "name": "stdout",
     "output_type": "stream",
     "text": [
      "Operator([[ 0.5+0.0000000e+00j,  0.5-6.1232340e-17j,  0.5-6.1232340e-17j,\n",
      "            0.5-1.2246468e-16j,  0. +0.0000000e+00j,  0. +0.0000000e+00j,\n",
      "            0. +0.0000000e+00j,  0. +0.0000000e+00j,  0. +0.0000000e+00j,\n",
      "            0. +0.0000000e+00j,  0. +0.0000000e+00j,  0. +0.0000000e+00j,\n",
      "            0. +0.0000000e+00j,  0. +0.0000000e+00j,  0. +0.0000000e+00j,\n",
      "            0. +0.0000000e+00j],\n",
      "          [ 0. +0.0000000e+00j,  0. +0.0000000e+00j,  0. +0.0000000e+00j,\n",
      "            0. +0.0000000e+00j,  0.5+0.0000000e+00j, -0.5+6.1232340e-17j,\n",
      "            0.5-6.1232340e-17j, -0.5+1.2246468e-16j,  0. +0.0000000e+00j,\n",
      "            0. +0.0000000e+00j,  0. +0.0000000e+00j,  0. +0.0000000e+00j,\n",
      "            0. +0.0000000e+00j,  0. +0.0000000e+00j,  0. +0.0000000e+00j,\n",
      "            0. +0.0000000e+00j],\n",
      "          [-0. +0.0000000e+00j, -0. +0.0000000e+00j, -0. +0.0000000e+00j,\n",
      "           -0. +0.0000000e+00j,  0.5+0.0000000e+00j,  0.5-6.1232340e-17j,\n",
      "           -0.5+6.1232340e-17j, -0.5+1.2246468e-16j, -0. +0.0000000e+00j,\n",
      "           -0. +0.0000000e+00j, -0. +0.0000000e+00j, -0. +0.0000000e+00j,\n",
      "           -0. +0.0000000e+00j, -0. +0.0000000e+00j, -0. +0.0000000e+00j,\n",
      "           -0. +0.0000000e+00j],\n",
      "          [-0. +0.0000000e+00j, -0. +0.0000000e+00j, -0. +0.0000000e+00j,\n",
      "           -0. +0.0000000e+00j, -0. +0.0000000e+00j, -0. +0.0000000e+00j,\n",
      "           -0. +0.0000000e+00j, -0. +0.0000000e+00j,  0.5+0.0000000e+00j,\n",
      "           -0.5+6.1232340e-17j, -0.5+6.1232340e-17j,  0.5-1.2246468e-16j,\n",
      "           -0. +0.0000000e+00j, -0. +0.0000000e+00j, -0. +0.0000000e+00j,\n",
      "           -0. +0.0000000e+00j],\n",
      "          [ 0. +0.0000000e+00j,  0. +0.0000000e+00j,  0. +0.0000000e+00j,\n",
      "            0. +0.0000000e+00j,  0.5+0.0000000e+00j,  0.5-6.1232340e-17j,\n",
      "            0.5-6.1232340e-17j,  0.5-1.2246468e-16j,  0. +0.0000000e+00j,\n",
      "            0. +0.0000000e+00j,  0. +0.0000000e+00j,  0. +0.0000000e+00j,\n",
      "            0. +0.0000000e+00j,  0. +0.0000000e+00j,  0. +0.0000000e+00j,\n",
      "            0. +0.0000000e+00j],\n",
      "          [ 0.5+0.0000000e+00j, -0.5+6.1232340e-17j,  0.5-6.1232340e-17j,\n",
      "           -0.5+1.2246468e-16j,  0. +0.0000000e+00j,  0. +0.0000000e+00j,\n",
      "            0. +0.0000000e+00j,  0. +0.0000000e+00j,  0. +0.0000000e+00j,\n",
      "            0. +0.0000000e+00j,  0. +0.0000000e+00j,  0. +0.0000000e+00j,\n",
      "            0. +0.0000000e+00j,  0. +0.0000000e+00j,  0. +0.0000000e+00j,\n",
      "            0. +0.0000000e+00j],\n",
      "          [ 0.5+0.0000000e+00j,  0.5-6.1232340e-17j, -0.5+6.1232340e-17j,\n",
      "           -0.5+1.2246468e-16j, -0. +0.0000000e+00j, -0. +0.0000000e+00j,\n",
      "           -0. +0.0000000e+00j, -0. +0.0000000e+00j, -0. +0.0000000e+00j,\n",
      "           -0. +0.0000000e+00j, -0. +0.0000000e+00j, -0. +0.0000000e+00j,\n",
      "           -0. +0.0000000e+00j, -0. +0.0000000e+00j, -0. +0.0000000e+00j,\n",
      "           -0. +0.0000000e+00j],\n",
      "          [-0. +0.0000000e+00j, -0. +0.0000000e+00j, -0. +0.0000000e+00j,\n",
      "           -0. +0.0000000e+00j, -0. +0.0000000e+00j, -0. +0.0000000e+00j,\n",
      "           -0. +0.0000000e+00j, -0. +0.0000000e+00j, -0. +0.0000000e+00j,\n",
      "           -0. +0.0000000e+00j, -0. +0.0000000e+00j, -0. +0.0000000e+00j,\n",
      "            0.5+0.0000000e+00j, -0.5+6.1232340e-17j, -0.5+6.1232340e-17j,\n",
      "            0.5-1.2246468e-16j],\n",
      "          [ 0. +0.0000000e+00j,  0. +0.0000000e+00j,  0. +0.0000000e+00j,\n",
      "            0. +0.0000000e+00j,  0. +0.0000000e+00j,  0. +0.0000000e+00j,\n",
      "            0. +0.0000000e+00j,  0. +0.0000000e+00j,  0.5+0.0000000e+00j,\n",
      "            0.5-6.1232340e-17j,  0.5-6.1232340e-17j,  0.5-1.2246468e-16j,\n",
      "            0. +0.0000000e+00j,  0. +0.0000000e+00j,  0. +0.0000000e+00j,\n",
      "            0. +0.0000000e+00j],\n",
      "          [ 0. +0.0000000e+00j,  0. +0.0000000e+00j,  0. +0.0000000e+00j,\n",
      "            0. +0.0000000e+00j,  0. +0.0000000e+00j,  0. +0.0000000e+00j,\n",
      "            0. +0.0000000e+00j,  0. +0.0000000e+00j,  0. +0.0000000e+00j,\n",
      "            0. +0.0000000e+00j,  0. +0.0000000e+00j,  0. +0.0000000e+00j,\n",
      "            0.5+0.0000000e+00j, -0.5+6.1232340e-17j,  0.5-6.1232340e-17j,\n",
      "           -0.5+1.2246468e-16j],\n",
      "          [-0. +0.0000000e+00j, -0. +0.0000000e+00j, -0. +0.0000000e+00j,\n",
      "           -0. +0.0000000e+00j, -0. +0.0000000e+00j, -0. +0.0000000e+00j,\n",
      "           -0. +0.0000000e+00j, -0. +0.0000000e+00j, -0. +0.0000000e+00j,\n",
      "           -0. +0.0000000e+00j, -0. +0.0000000e+00j, -0. +0.0000000e+00j,\n",
      "            0.5+0.0000000e+00j,  0.5-6.1232340e-17j, -0.5+6.1232340e-17j,\n",
      "           -0.5+1.2246468e-16j],\n",
      "          [ 0.5+0.0000000e+00j, -0.5+6.1232340e-17j, -0.5+6.1232340e-17j,\n",
      "            0.5-1.2246468e-16j, -0. +0.0000000e+00j, -0. +0.0000000e+00j,\n",
      "           -0. +0.0000000e+00j, -0. +0.0000000e+00j, -0. +0.0000000e+00j,\n",
      "           -0. +0.0000000e+00j, -0. +0.0000000e+00j, -0. +0.0000000e+00j,\n",
      "           -0. +0.0000000e+00j, -0. +0.0000000e+00j, -0. +0.0000000e+00j,\n",
      "           -0. +0.0000000e+00j],\n",
      "          [ 0. +0.0000000e+00j,  0. +0.0000000e+00j,  0. +0.0000000e+00j,\n",
      "            0. +0.0000000e+00j,  0. +0.0000000e+00j,  0. +0.0000000e+00j,\n",
      "            0. +0.0000000e+00j,  0. +0.0000000e+00j,  0. +0.0000000e+00j,\n",
      "            0. +0.0000000e+00j,  0. +0.0000000e+00j,  0. +0.0000000e+00j,\n",
      "            0.5+0.0000000e+00j,  0.5-6.1232340e-17j,  0.5-6.1232340e-17j,\n",
      "            0.5-1.2246468e-16j],\n",
      "          [ 0. +0.0000000e+00j,  0. +0.0000000e+00j,  0. +0.0000000e+00j,\n",
      "            0. +0.0000000e+00j,  0. +0.0000000e+00j,  0. +0.0000000e+00j,\n",
      "            0. +0.0000000e+00j,  0. +0.0000000e+00j,  0.5+0.0000000e+00j,\n",
      "           -0.5+6.1232340e-17j,  0.5-6.1232340e-17j, -0.5+1.2246468e-16j,\n",
      "            0. +0.0000000e+00j,  0. +0.0000000e+00j,  0. +0.0000000e+00j,\n",
      "            0. +0.0000000e+00j],\n",
      "          [-0. +0.0000000e+00j, -0. +0.0000000e+00j, -0. +0.0000000e+00j,\n",
      "           -0. +0.0000000e+00j, -0. +0.0000000e+00j, -0. +0.0000000e+00j,\n",
      "           -0. +0.0000000e+00j, -0. +0.0000000e+00j,  0.5+0.0000000e+00j,\n",
      "            0.5-6.1232340e-17j, -0.5+6.1232340e-17j, -0.5+1.2246468e-16j,\n",
      "           -0. +0.0000000e+00j, -0. +0.0000000e+00j, -0. +0.0000000e+00j,\n",
      "           -0. +0.0000000e+00j],\n",
      "          [-0. +0.0000000e+00j, -0. +0.0000000e+00j, -0. +0.0000000e+00j,\n",
      "           -0. +0.0000000e+00j,  0.5+0.0000000e+00j, -0.5+6.1232340e-17j,\n",
      "           -0.5+6.1232340e-17j,  0.5-1.2246468e-16j, -0. +0.0000000e+00j,\n",
      "           -0. +0.0000000e+00j, -0. +0.0000000e+00j, -0. +0.0000000e+00j,\n",
      "           -0. +0.0000000e+00j, -0. +0.0000000e+00j, -0. +0.0000000e+00j,\n",
      "           -0. +0.0000000e+00j]],\n",
      "         input_dims=(2, 2, 2, 2), output_dims=(2, 2, 2, 2))\n"
     ]
    }
   ],
   "source": [
    "unitary = result1.get_unitary()\n",
    "print(unitary)"
   ]
  },
  {
   "cell_type": "markdown",
   "id": "44351af8-462f-4dd0-b47d-73b2b36d19e8",
   "metadata": {},
   "source": [
    "## 计算模拟\n",
    "\n",
    "计算模拟器针对具有测量输出的量子线路，仿真其在真实量子芯片上运算的结果，是离线状态模拟量子算法的重要工具。使用计算模拟器，与上面的两个分析型后端主要有3点区别：\n",
    "\n",
    "1. 线路必须包含测量输出；\n",
    "2. QisKit中的计算模拟器针对OpenQasm量子汇编设计，因此，在使用该后端运行线路时，需要先将线路转换为OpenQasm汇编；\n",
    "3. 一般在`run`函数中要指定模拟的次数。\n",
    "\n",
    "计算模拟后端运行的结果为不同输出值出现的次数。"
   ]
  },
  {
   "cell_type": "code",
   "execution_count": 8,
   "id": "bd305e1f-eb4e-4af3-a128-1ab17ab943ff",
   "metadata": {},
   "outputs": [
    {
     "name": "stdout",
     "output_type": "stream",
     "text": [
      "{'counts': {'0x1': 513, '0x0': 256, '0x2': 255}}\n"
     ]
    }
   ],
   "source": [
    "backend_qasm = qiskit.Aer.get_backend('qasm_simulator')\n",
    "job2 = backend_qasm.run(qiskit.transpile(circ, backend_qasm), shots=1024)\n",
    "result2 = job2.result()\n",
    "print(result2.data())"
   ]
  },
  {
   "cell_type": "markdown",
   "id": "2f49ca53-51a0-45e2-9472-f528023295d2",
   "metadata": {},
   "source": [
    "使用`get_counts`函数从结果中获取模拟结果，结果可以使用柱状图进行可视化。"
   ]
  },
  {
   "cell_type": "code",
   "execution_count": 9,
   "id": "3c8e31ed-f6e5-4848-958e-4145b28896e8",
   "metadata": {},
   "outputs": [
    {
     "data": {
      "image/png": "[encoded data removed]",
      "text/plain": [
       "<Figure size 504x360 with 1 Axes>"
      ]
     },
     "execution_count": 9,
     "metadata": {},
     "output_type": "execute_result"
    }
   ],
   "source": [
    "counts = result2.get_counts()\n",
    "qiskit.visualization.plot_histogram(counts)"
   ]
  },
  {
   "cell_type": "markdown",
   "id": "2dc41f49-cac1-4ee0-a3b2-12058a7e0e03",
   "metadata": {},
   "source": [
    "## 集成\n",
    "\n",
    "针对任意可以简单拆分为纯量子比特线路和纯测量线路的量子线路，这里定义一个集成的仿真函数，利用3种后端获取线路对应的状态向量、幺正算子和计算模拟结果。"
   ]
  },
  {
   "cell_type": "code",
   "execution_count": 10,
   "id": "bcff9ffb-03d6-4da7-a243-12ae0fecc43f",
   "metadata": {},
   "outputs": [],
   "source": [
    "# synchronized simulation for simple two-parts quantum circuits\n",
    "def qiskit_syn_simulate(circ_q, circ_m, shots = 1024):\n",
    "    if type(circ_q) is not qiskit.circuit.quantumcircuit.QuantumCircuit or circ_q.num_clbits > 0:\n",
    "        print('Pure quantum circuit is invalid')\n",
    "        return None, None, None\n",
    "    if type(circ_m) is not qiskit.circuit.quantumcircuit.QuantumCircuit or circ_m.num_clbits == 0:\n",
    "        print('Measure circuit is invalid')\n",
    "        return None, None, None\n",
    "    if shots < 1:\n",
    "        print('Simulation shots must be positive')\n",
    "        return None, None, None\n",
    "    circ = compose_circuits([circ_q, circ_m]) # get combined circuit\n",
    "    results = [] # prepare results\n",
    "    backends = [\n",
    "        ('statevector_simulator', lambda backend : backend.run(circ_q).result().get_statevector()),\n",
    "        ('unitary_simulator', lambda backend : backend.run(circ_q).result().get_unitary()),\n",
    "        ('qasm_simulator', lambda backend : backend.run(qiskit.transpile(circ, backend), shots = shots).result().get_counts())\n",
    "    ]\n",
    "    for name, opt in backends:\n",
    "        backend = qiskit.Aer.get_backend(name)\n",
    "        results.append(opt(backend))\n",
    "    return tuple(results)"
   ]
  },
  {
   "cell_type": "code",
   "execution_count": 11,
   "id": "5b40f8c5-d4cd-4e9e-8d41-0aff5d066160",
   "metadata": {},
   "outputs": [
    {
     "name": "stdout",
     "output_type": "stream",
     "text": [
      "Inspect Quantum Circuit circuit-144\n",
      "\n",
      "There are 4 qubits in 1 quantum regiters\n",
      "  QuantumRegister(4, 'q')\n",
      "\n",
      "There are 2 classic bits in 1 classic registers\n",
      "  ClassicalRegister(2, 'c')\n",
      "\n",
      "There are 2 instructions\n",
      "  (Instruction(name='measure', num_qubits=1, num_clbits=1, params=[]), [Qubit(QuantumRegister(4, 'q'), 2)], [Clbit(ClassicalRegister(2, 'c'), 0)])\n",
      "  (Instruction(name='measure', num_qubits=1, num_clbits=1, params=[]), [Qubit(QuantumRegister(4, 'q'), 3)], [Clbit(ClassicalRegister(2, 'c'), 1)])\n",
      "\n",
      "Image of circuit:\n"
     ]
    },
    {
     "data": {
      "image/png": "[encoded data removed]",
      "text/plain": [
       "<Figure size 206.997x325.08 with 1 Axes>"
      ]
     },
     "metadata": {},
     "output_type": "display_data"
    },
    {
     "name": "stdout",
     "output_type": "stream",
     "text": [
      "\n"
     ]
    }
   ],
   "source": [
    "# generate circuit to measure last two qubits\n",
    "circ_m = qiskit.QuantumCircuit(4, 2)\n",
    "circ_m.measure([2, 3], [0, 1])\n",
    "inspect_quantum_circuit(circ_m)"
   ]
  },
  {
   "cell_type": "code",
   "execution_count": 12,
   "id": "2ccf9fc4-18be-4a9f-ae68-e6be4f4574ae",
   "metadata": {},
   "outputs": [
    {
     "data": {
      "text/latex": [
       "$$\\frac{1}{2} |0000\\rangle+\\frac{1}{2} |0101\\rangle+\\frac{1}{2} |0110\\rangle+\\frac{1}{2} |1011\\rangle$$"
      ],
      "text/plain": [
       "<IPython.core.display.Latex object>"
      ]
     },
     "metadata": {},
     "output_type": "display_data"
    },
    {
     "name": "stdout",
     "output_type": "stream",
     "text": [
      "Operator([[ 0.5+0.0000000e+00j,  0.5-6.1232340e-17j,  0.5-6.1232340e-17j,\n",
      "            0.5-1.2246468e-16j,  0. +0.0000000e+00j,  0. +0.0000000e+00j,\n",
      "            0. +0.0000000e+00j,  0. +0.0000000e+00j,  0. +0.0000000e+00j,\n",
      "            0. +0.0000000e+00j,  0. +0.0000000e+00j,  0. +0.0000000e+00j,\n",
      "            0. +0.0000000e+00j,  0. +0.0000000e+00j,  0. +0.0000000e+00j,\n",
      "            0. +0.0000000e+00j],\n",
      "          [ 0. +0.0000000e+00j,  0. +0.0000000e+00j,  0. +0.0000000e+00j,\n",
      "            0. +0.0000000e+00j,  0.5+0.0000000e+00j, -0.5+6.1232340e-17j,\n",
      "            0.5-6.1232340e-17j, -0.5+1.2246468e-16j,  0. +0.0000000e+00j,\n",
      "            0. +0.0000000e+00j,  0. +0.0000000e+00j,  0. +0.0000000e+00j,\n",
      "            0. +0.0000000e+00j,  0. +0.0000000e+00j,  0. +0.0000000e+00j,\n",
      "            0. +0.0000000e+00j],\n",
      "          [-0. +0.0000000e+00j, -0. +0.0000000e+00j, -0. +0.0000000e+00j,\n",
      "           -0. +0.0000000e+00j,  0.5+0.0000000e+00j,  0.5-6.1232340e-17j,\n",
      "           -0.5+6.1232340e-17j, -0.5+1.2246468e-16j, -0. +0.0000000e+00j,\n",
      "           -0. +0.0000000e+00j, -0. +0.0000000e+00j, -0. +0.0000000e+00j,\n",
      "           -0. +0.0000000e+00j, -0. +0.0000000e+00j, -0. +0.0000000e+00j,\n",
      "           -0. +0.0000000e+00j],\n",
      "          [-0. +0.0000000e+00j, -0. +0.0000000e+00j, -0. +0.0000000e+00j,\n",
      "           -0. +0.0000000e+00j, -0. +0.0000000e+00j, -0. +0.0000000e+00j,\n",
      "           -0. +0.0000000e+00j, -0. +0.0000000e+00j,  0.5+0.0000000e+00j,\n",
      "           -0.5+6.1232340e-17j, -0.5+6.1232340e-17j,  0.5-1.2246468e-16j,\n",
      "           -0. +0.0000000e+00j, -0. +0.0000000e+00j, -0. +0.0000000e+00j,\n",
      "           -0. +0.0000000e+00j],\n",
      "          [ 0. +0.0000000e+00j,  0. +0.0000000e+00j,  0. +0.0000000e+00j,\n",
      "            0. +0.0000000e+00j,  0.5+0.0000000e+00j,  0.5-6.1232340e-17j,\n",
      "            0.5-6.1232340e-17j,  0.5-1.2246468e-16j,  0. +0.0000000e+00j,\n",
      "            0. +0.0000000e+00j,  0. +0.0000000e+00j,  0. +0.0000000e+00j,\n",
      "            0. +0.0000000e+00j,  0. +0.0000000e+00j,  0. +0.0000000e+00j,\n",
      "            0. +0.0000000e+00j],\n",
      "          [ 0.5+0.0000000e+00j, -0.5+6.1232340e-17j,  0.5-6.1232340e-17j,\n",
      "           -0.5+1.2246468e-16j,  0. +0.0000000e+00j,  0. +0.0000000e+00j,\n",
      "            0. +0.0000000e+00j,  0. +0.0000000e+00j,  0. +0.0000000e+00j,\n",
      "            0. +0.0000000e+00j,  0. +0.0000000e+00j,  0. +0.0000000e+00j,\n",
      "            0. +0.0000000e+00j,  0. +0.0000000e+00j,  0. +0.0000000e+00j,\n",
      "            0. +0.0000000e+00j],\n",
      "          [ 0.5+0.0000000e+00j,  0.5-6.1232340e-17j, -0.5+6.1232340e-17j,\n",
      "           -0.5+1.2246468e-16j, -0. +0.0000000e+00j, -0. +0.0000000e+00j,\n",
      "           -0. +0.0000000e+00j, -0. +0.0000000e+00j, -0. +0.0000000e+00j,\n",
      "           -0. +0.0000000e+00j, -0. +0.0000000e+00j, -0. +0.0000000e+00j,\n",
      "           -0. +0.0000000e+00j, -0. +0.0000000e+00j, -0. +0.0000000e+00j,\n",
      "           -0. +0.0000000e+00j],\n",
      "          [-0. +0.0000000e+00j, -0. +0.0000000e+00j, -0. +0.0000000e+00j,\n",
      "           -0. +0.0000000e+00j, -0. +0.0000000e+00j, -0. +0.0000000e+00j,\n",
      "           -0. +0.0000000e+00j, -0. +0.0000000e+00j, -0. +0.0000000e+00j,\n",
      "           -0. +0.0000000e+00j, -0. +0.0000000e+00j, -0. +0.0000000e+00j,\n",
      "            0.5+0.0000000e+00j, -0.5+6.1232340e-17j, -0.5+6.1232340e-17j,\n",
      "            0.5-1.2246468e-16j],\n",
      "          [ 0. +0.0000000e+00j,  0. +0.0000000e+00j,  0. +0.0000000e+00j,\n",
      "            0. +0.0000000e+00j,  0. +0.0000000e+00j,  0. +0.0000000e+00j,\n",
      "            0. +0.0000000e+00j,  0. +0.0000000e+00j,  0.5+0.0000000e+00j,\n",
      "            0.5-6.1232340e-17j,  0.5-6.1232340e-17j,  0.5-1.2246468e-16j,\n",
      "            0. +0.0000000e+00j,  0. +0.0000000e+00j,  0. +0.0000000e+00j,\n",
      "            0. +0.0000000e+00j],\n",
      "          [ 0. +0.0000000e+00j,  0. +0.0000000e+00j,  0. +0.0000000e+00j,\n",
      "            0. +0.0000000e+00j,  0. +0.0000000e+00j,  0. +0.0000000e+00j,\n",
      "            0. +0.0000000e+00j,  0. +0.0000000e+00j,  0. +0.0000000e+00j,\n",
      "            0. +0.0000000e+00j,  0. +0.0000000e+00j,  0. +0.0000000e+00j,\n",
      "            0.5+0.0000000e+00j, -0.5+6.1232340e-17j,  0.5-6.1232340e-17j,\n",
      "           -0.5+1.2246468e-16j],\n",
      "          [-0. +0.0000000e+00j, -0. +0.0000000e+00j, -0. +0.0000000e+00j,\n",
      "           -0. +0.0000000e+00j, -0. +0.0000000e+00j, -0. +0.0000000e+00j,\n",
      "           -0. +0.0000000e+00j, -0. +0.0000000e+00j, -0. +0.0000000e+00j,\n",
      "           -0. +0.0000000e+00j, -0. +0.0000000e+00j, -0. +0.0000000e+00j,\n",
      "            0.5+0.0000000e+00j,  0.5-6.1232340e-17j, -0.5+6.1232340e-17j,\n",
      "           -0.5+1.2246468e-16j],\n",
      "          [ 0.5+0.0000000e+00j, -0.5+6.1232340e-17j, -0.5+6.1232340e-17j,\n",
      "            0.5-1.2246468e-16j, -0. +0.0000000e+00j, -0. +0.0000000e+00j,\n",
      "           -0. +0.0000000e+00j, -0. +0.0000000e+00j, -0. +0.0000000e+00j,\n",
      "           -0. +0.0000000e+00j, -0. +0.0000000e+00j, -0. +0.0000000e+00j,\n",
      "           -0. +0.0000000e+00j, -0. +0.0000000e+00j, -0. +0.0000000e+00j,\n",
      "           -0. +0.0000000e+00j],\n",
      "          [ 0. +0.0000000e+00j,  0. +0.0000000e+00j,  0. +0.0000000e+00j,\n",
      "            0. +0.0000000e+00j,  0. +0.0000000e+00j,  0. +0.0000000e+00j,\n",
      "            0. +0.0000000e+00j,  0. +0.0000000e+00j,  0. +0.0000000e+00j,\n",
      "            0. +0.0000000e+00j,  0. +0.0000000e+00j,  0. +0.0000000e+00j,\n",
      "            0.5+0.0000000e+00j,  0.5-6.1232340e-17j,  0.5-6.1232340e-17j,\n",
      "            0.5-1.2246468e-16j],\n",
      "          [ 0. +0.0000000e+00j,  0. +0.0000000e+00j,  0. +0.0000000e+00j,\n",
      "            0. +0.0000000e+00j,  0. +0.0000000e+00j,  0. +0.0000000e+00j,\n",
      "            0. +0.0000000e+00j,  0. +0.0000000e+00j,  0.5+0.0000000e+00j,\n",
      "           -0.5+6.1232340e-17j,  0.5-6.1232340e-17j, -0.5+1.2246468e-16j,\n",
      "            0. +0.0000000e+00j,  0. +0.0000000e+00j,  0. +0.0000000e+00j,\n",
      "            0. +0.0000000e+00j],\n",
      "          [-0. +0.0000000e+00j, -0. +0.0000000e+00j, -0. +0.0000000e+00j,\n",
      "           -0. +0.0000000e+00j, -0. +0.0000000e+00j, -0. +0.0000000e+00j,\n",
      "           -0. +0.0000000e+00j, -0. +0.0000000e+00j,  0.5+0.0000000e+00j,\n",
      "            0.5-6.1232340e-17j, -0.5+6.1232340e-17j, -0.5+1.2246468e-16j,\n",
      "           -0. +0.0000000e+00j, -0. +0.0000000e+00j, -0. +0.0000000e+00j,\n",
      "           -0. +0.0000000e+00j],\n",
      "          [-0. +0.0000000e+00j, -0. +0.0000000e+00j, -0. +0.0000000e+00j,\n",
      "           -0. +0.0000000e+00j,  0.5+0.0000000e+00j, -0.5+6.1232340e-17j,\n",
      "           -0.5+6.1232340e-17j,  0.5-1.2246468e-16j, -0. +0.0000000e+00j,\n",
      "           -0. +0.0000000e+00j, -0. +0.0000000e+00j, -0. +0.0000000e+00j,\n",
      "           -0. +0.0000000e+00j, -0. +0.0000000e+00j, -0. +0.0000000e+00j,\n",
      "           -0. +0.0000000e+00j]],\n",
      "         input_dims=(2, 2, 2, 2), output_dims=(2, 2, 2, 2))\n"
     ]
    },
    {
     "data": {
      "image/png": "[encoded data removed]",
      "text/plain": [
       "<Figure size 504x360 with 1 Axes>"
      ]
     },
     "metadata": {},
     "output_type": "display_data"
    }
   ],
   "source": [
    "state_vector, unitary, counts = qiskit_syn_simulate(circ_q, circ_m)\n",
    "display(state_vector.draw('latex'))\n",
    "print(unitary)\n",
    "display(qiskit.visualization.plot_histogram(counts))"
   ]
  },
  {
   "cell_type": "code",
   "execution_count": null,
   "id": "72d6489e-e24d-40b3-a34e-4ac5944361cf",
   "metadata": {},
   "outputs": [],
   "source": []
  }
 ],
 "metadata": {
  "kernelspec": {
   "display_name": "qiskit",
   "language": "python",
   "name": "qiskit"
  },
  "language_info": {
   "codemirror_mode": {
    "name": "ipython",
    "version": 3
   },
   "file_extension": ".py",
   "mimetype": "text/x-python",
   "name": "python",
   "nbconvert_exporter": "python",
   "pygments_lexer": "ipython3",
   "version": "3.9.7"
  }
 },
 "nbformat": 4,
 "nbformat_minor": 5
}
